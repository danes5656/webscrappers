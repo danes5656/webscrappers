{
 "cells": [
  {
   "cell_type": "markdown",
   "metadata": {},
   "source": [
    "# Initial setup"
   ]
  },
  {
   "cell_type": "markdown",
   "metadata": {},
   "source": [
    "## Importing libraries"
   ]
  },
  {
   "cell_type": "code",
   "execution_count": 1,
   "metadata": {},
   "outputs": [],
   "source": [
    "import wikipedia\n",
    "from selenium import webdriver\n",
    "from selenium.webdriver.common.by import By\n",
    "import time\n",
    "from selenium.webdriver.edge.service import Service\n",
    "from selenium.webdriver.edge.options import Options\n",
    "import os"
   ]
  },
  {
   "cell_type": "markdown",
   "metadata": {},
   "source": [
    "## Shared locations"
   ]
  },
  {
   "cell_type": "code",
   "execution_count": 2,
   "metadata": {},
   "outputs": [
    {
     "name": "stdout",
     "output_type": "stream",
     "text": [
      "/Users/eduardotorres/Documents/stuff/msedgedriver\n"
     ]
    }
   ],
   "source": [
    "root = r'/Users/eduardotorres/Documents'\n",
    "sl = r'/'\n",
    "add_ins = ''.join([root, sl, r'stuff'])\n",
    "\n",
    "executable_chrome = ''.join([add_ins, sl, r'msedgedriver'])\n",
    "\n",
    "#service = Service(verbose = True)\n",
    "service = Service(executable_path = executable_chrome)\n",
    "options = Options()\n",
    "options.add_argument(\"headless\")\n",
    "\n",
    "print(executable_chrome)"
   ]
  },
  {
   "cell_type": "markdown",
   "metadata": {},
   "source": [
    "# Creating bot"
   ]
  },
  {
   "cell_type": "markdown",
   "metadata": {},
   "source": [
    "## Selenium setup"
   ]
  },
  {
   "cell_type": "code",
   "execution_count": 3,
   "metadata": {},
   "outputs": [
    {
     "name": "stdout",
     "output_type": "stream",
     "text": [
      "Page title is: \n"
     ]
    }
   ],
   "source": [
    "# executable_path=executable_chrome\n",
    "driver = webdriver.Edge(options=options, service= service)\n",
    "driver.get('edge://settings/help')\n",
    "print(\"Page title is: %s\" %(driver.title))"
   ]
  },
  {
   "cell_type": "markdown",
   "metadata": {},
   "source": [
    "## Main Function"
   ]
  },
  {
   "cell_type": "code",
   "execution_count": 4,
   "metadata": {},
   "outputs": [],
   "source": [
    "def chatbot_response(query):\n",
    "    try:\n",
    "        driver.get(f'https://www.google.com/search?q='+ query +'&hl=en')\n",
    "        web_element = driver.find_element(by= By.ID, value='search')\n",
    "        response = web_element.find_elements(by = By.CSS_SELECTOR, value = 'a')\n",
    "        \n",
    "    except:\n",
    "        try:\n",
    "            #try investopedia\n",
    "            query = query.lower().split()[-1]\n",
    "            letter = query[0]\n",
    "            if \"/\" in query:\n",
    "                query = query.replace(\"/\", \"-\").replace(\" \", \"\").replace(\"%\", \"\").replace(\"(\", \"\").replace(\")\", \"\").replace(\"?\", \"\")\n",
    "            driver.get(f'https://www.investopedia.com/terms/'+letter+'/'+query+'.asp')\n",
    "            response = driver.find_element(By.ID,\"mntl-sc-block_1-0-1\").get_attribute(\"innerText\")\n",
    "        except:\n",
    "        #define wikipedia intention\n",
    "            if query.lower() in ('evs', 'evalueserve'):\n",
    "                response = \"Evalueserve is a global company specializing in research, analysis and data management services\"\n",
    "            else:\n",
    "                try:\n",
    "                    mercury = wikipedia.summary(wikipedia.search(query)[0], auto_suggest=False)\n",
    "                    response = mercury.split('.')[0]\n",
    "                except wikipedia.exceptions.DisambiguationError as e:\n",
    "                    options = listToStr = ', '.join([str(elem) for elem in e.options])    \n",
    "                    response = \"I was unable to find what you are looking for in wikipwdia, try with \" + options\n",
    "    return response\n",
    "\n",
    "#driver.quit()"
   ]
  },
  {
   "cell_type": "markdown",
   "metadata": {},
   "source": [
    "## GUI"
   ]
  },
  {
   "cell_type": "code",
   "execution_count": 5,
   "metadata": {},
   "outputs": [
    {
     "ename": "",
     "evalue": "",
     "output_type": "error",
     "traceback": [
      "\u001b[1;31mThe Kernel crashed while executing code in the the current cell or a previous cell. Please review the code in the cell(s) to identify a possible cause of the failure. Click <a href='https://aka.ms/vscodeJupyterKernelCrash'>here</a> for more info. View Jupyter <a href='command:jupyter.viewOutput'>log</a> for further details."
     ]
    }
   ],
   "source": [
    "#Creating GUI with tkinter\n",
    "import tkinter\n",
    "from tkinter import *\n",
    "\n",
    "def send():\n",
    "    msg = EntryBox.get(\"1.0\",'end-1c').strip()\n",
    "    EntryBox.delete(\"0.0\",END)\n",
    "    \n",
    "        \n",
    "    if msg != '':\n",
    "        ChatLog.config(state=NORMAL)\n",
    "        \n",
    "        ChatLog.insert(END, \"You: \" + msg + '\\n\\n')\n",
    "        ChatLog.config(foreground=\"#442265\", font=(\"Verdana\", 12 ))\n",
    "        \n",
    "        res = chatbot_response(msg)\n",
    "        \n",
    "        ChatLog.insert(END, \"Bot: Find here the latest 5 news\" + '\\n\\n')\n",
    "        for i in res[0:5]:\n",
    "            #ChatLog.insert(END, \"Bot: \" + '\\n\\n')\n",
    "            ChatLog.insert(END,  i.get_attribute('text') + '\\n' + i.get_attribute('href') + '\\n\\n')\n",
    "            \n",
    "        ChatLog.config(state=DISABLED)\n",
    "        ChatLog.yview(END)\n",
    "\n",
    "base = Tk()\n",
    "base.title(\"Googlebot\")\n",
    "base.geometry(\"400x500\")\n",
    "base.resizable(width=FALSE, height=FALSE)\n",
    "\n",
    "#Create Chat window\n",
    "ChatLog = Text(base, bd=0, bg=\"white\", height=\"8\", width=\"50\", font=\"Arial\",)\n",
    "ChatLog.config(state=DISABLED)\n",
    "\n",
    "#Bind scrollbar to Chat window\n",
    "scrollbar = Scrollbar(base, command=ChatLog.yview, cursor=\"heart\")\n",
    "ChatLog['yscrollcommand'] = scrollbar.set\n",
    "\n",
    "#Create Button to send message\n",
    "SendButton = Button(base, font=(\"Verdana\",12,'bold'), text=\"Send\", width=\"12\", height=5,\n",
    "                    bd=0, bg=\"#3F23DF\", activebackground=\"#3F23DF\",fg='#3F23DF',\n",
    "                    command= send )\n",
    "\n",
    "#Create the box to enter message\n",
    "EntryBox = Text(base, bd=0, bg=\"white\",width=\"29\", height=\"5\", font=\"Arial\")\n",
    "\n",
    "#EntryBox.bind(\"<Return>\", send)\n",
    "#Place all components on the screen\n",
    "scrollbar.place(x=376,y=6, height=386)\n",
    "ChatLog.place(x=6,y=6, height=386, width=370)\n",
    "EntryBox.place(x=128, y=401, height=90, width=265)\n",
    "SendButton.place(x=6, y=401, height=90)\n",
    "base.mainloop()"
   ]
  },
  {
   "cell_type": "markdown",
   "metadata": {},
   "source": [
    "## Testing"
   ]
  },
  {
   "cell_type": "code",
   "execution_count": 332,
   "metadata": {},
   "outputs": [
    {
     "name": "stdout",
     "output_type": "stream",
     "text": [
      "https://www.google.com/search?q=news%20for%20us&hl=en\n",
      "news for us - Google Search\n"
     ]
    }
   ],
   "source": [
    "query = 'news for us'\n",
    "driver.get(f'https://www.google.com/search?q='+ query +'&hl=en')\n",
    "print(driver.current_url)\n",
    "print(driver.title)"
   ]
  },
  {
   "cell_type": "code",
   "execution_count": 389,
   "metadata": {},
   "outputs": [
    {
     "name": "stdout",
     "output_type": "stream",
     "text": [
      "EcuadorTimes.net | Breaking News, Ecuador News, World ...https://www.ecuadortimes.net\n",
      "Ecuador | Today's latest from Al Jazeerahttps://www.aljazeera.com › where › ecuador\n",
      "Ecuador - BBC Newshttps://www.bbc.com › news › topics\n",
      "Ecuador | World | The Guardianhttps://www.theguardian.com › world › ecuador\n",
      "More items...\n",
      "Ecuador | Today's latest from Al Jazeerahttps://www.aljazeera.com › where › ecuador\n",
      "Cached\n",
      "What are the current events in Ecuador?\n",
      "COVID-19 Information - U.S. Embassy & Consulate in Ecuadorhttps://ec.usembassy.gov › covid-19-information-ecu-2\n",
      "What level Covid is Ecuador?\n",
      "Ecuador Travel Advisory - travel.govhttps://travel.state.gov › content › ecuador-travel-advisory\n",
      "Is Ecuador a high risk country?\n",
      "Ecuador | Country Page | World - Human Rights Watchhttps://www.hrw.org › americas › ecuador\n",
      "What human rights are being violated in Ecuador?\n",
      "Feedback\n",
      "BNamericasEcuador seeking ways to boost private sector...2 days ago\n",
      "Travel Off PathEcuador Lifts All Travel Restrictions Returning To Normal Tourism1 day ago\n",
      "State Department funding 'drag theater performances' in Ecuador to 'promote \n",
      "diversity and inclusion'4 days ago\n",
      "More news\n",
      "Ecuador - latest news, breaking stories and commenthttps://www.independent.co.uk › topic › ecuador\n",
      "Ecuador - AP Newshttps://apnews.com › hub › ecuador\n",
      "News & Events - U.S. Embassy & Consulate in Ecuadorhttps://ec.usembassy.gov › news-events\n",
      "Find all the latest news about republic-of-ecuador | euronewshttps://www.euronews.com › news › america › republic...\n",
      "Ecuador - The Latest News from the UK and Around the Worldhttps://news.sky.com › topic › ecuador-6529\n"
     ]
    }
   ],
   "source": [
    "web_element = driver.find_element(by= By.ID, value='search')\n",
    "res = web_element.find_elements(by = By.CSS_SELECTOR, value = 'a')\n",
    "for i in res:\n",
    "    print(i.get_attribute('text'))"
   ]
  },
  {
   "cell_type": "code",
   "execution_count": null,
   "metadata": {},
   "outputs": [],
   "source": []
  }
 ],
 "metadata": {
  "kernelspec": {
   "display_name": "Python 3.8.12",
   "language": "python",
   "name": "python3"
  },
  "language_info": {
   "codemirror_mode": {
    "name": "ipython",
    "version": 3
   },
   "file_extension": ".py",
   "mimetype": "text/x-python",
   "name": "python",
   "nbconvert_exporter": "python",
   "pygments_lexer": "ipython3",
   "version": "3.8.13"
  },
  "orig_nbformat": 4,
  "vscode": {
   "interpreter": {
    "hash": "5af6ccdf4334ccc6d2566170245b5aaa82c41f60d52479ab948643b05d57746e"
   }
  }
 },
 "nbformat": 4,
 "nbformat_minor": 2
}
